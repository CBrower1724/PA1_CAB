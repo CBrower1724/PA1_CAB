{
 "cells": [
  {
   "cell_type": "markdown",
   "id": "e592ed55-cf0f-4c43-b130-5d60a542cf0e",
   "metadata": {},
   "source": [
    "# Programming Assignment 1\n",
    "---\n",
    "**Author:** Carson Brower  \n",
    "**Version:** 1.0  \n",
    "**Semester:** Spring 2024 \n",
    "\n",
    "This *notebook* contains my solution(s) to **Programming Assignment 1**"
   ]
  },
  {
   "cell_type": "markdown",
   "id": "28a257ce-9a17-418b-b82b-f7d0d7ee80bb",
   "metadata": {},
   "source": [
    "### Problem 1 – Manipulating Numbers"
   ]
  },
  {
   "cell_type": "code",
   "execution_count": 2,
   "id": "b2ba56e8-7b70-4856-9033-6e0e3d915812",
   "metadata": {
    "tags": []
   },
   "outputs": [],
   "source": [
    "prompt = 'Enter a floating point number' \n"
   ]
  },
  {
   "cell_type": "code",
   "execution_count": 3,
   "id": "9e486679-1cde-4149-aefa-add94185209b",
   "metadata": {
    "tags": []
   },
   "outputs": [
    {
     "name": "stdin",
     "output_type": "stream",
     "text": [
      "Enter a floating point number  44.3\n"
     ]
    }
   ],
   "source": [
    "Number_1 = input(prompt) "
   ]
  },
  {
   "cell_type": "code",
   "execution_count": 4,
   "id": "dac106b6-9e52-43bb-b312-189c1b74e31d",
   "metadata": {
    "tags": []
   },
   "outputs": [
    {
     "name": "stdout",
     "output_type": "stream",
     "text": [
      " 44.3\n"
     ]
    }
   ],
   "source": [
    "print(Number_1)"
   ]
  },
  {
   "cell_type": "code",
   "execution_count": 5,
   "id": "cb9ef945-f584-47a1-a40a-e0b82f199e94",
   "metadata": {
    "tags": []
   },
   "outputs": [],
   "source": [
    "prompt_2 = 'Enter an integer'"
   ]
  },
  {
   "cell_type": "code",
   "execution_count": 6,
   "id": "30fec7fb-2223-4f37-8c74-c50878a68f7b",
   "metadata": {
    "tags": []
   },
   "outputs": [
    {
     "name": "stdin",
     "output_type": "stream",
     "text": [
      "Enter an integer  16\n"
     ]
    }
   ],
   "source": [
    "Number_2 = input(prompt_2)"
   ]
  },
  {
   "cell_type": "code",
   "execution_count": 7,
   "id": "fd46fabc-a97d-498c-9fb1-5b8287c32d14",
   "metadata": {
    "tags": []
   },
   "outputs": [
    {
     "name": "stdout",
     "output_type": "stream",
     "text": [
      " 16\n"
     ]
    }
   ],
   "source": [
    "print(Number_2)"
   ]
  },
  {
   "cell_type": "code",
   "execution_count": 8,
   "id": "977b6c6a-bf02-4f03-801c-056b537cfbd1",
   "metadata": {
    "tags": []
   },
   "outputs": [],
   "source": [
    "Result = float(Number_1) + int(Number_2)"
   ]
  },
  {
   "cell_type": "code",
   "execution_count": 9,
   "id": "e304b332-efb3-476b-a0b3-b92fe88c8b07",
   "metadata": {
    "tags": []
   },
   "outputs": [
    {
     "name": "stdout",
     "output_type": "stream",
     "text": [
      " The Sum is 60.300.\n"
     ]
    }
   ],
   "source": [
    "print(f' The Sum is {Result:.3f}.')"
   ]
  },
  {
   "cell_type": "code",
   "execution_count": 10,
   "id": "d184c9da-11e2-4e3e-bae3-bc1c899c3803",
   "metadata": {
    "tags": []
   },
   "outputs": [],
   "source": [
    "Result = float(Number_1) - int(Number_2)"
   ]
  },
  {
   "cell_type": "code",
   "execution_count": 11,
   "id": "baa98d97-b322-45c9-a52b-a514d8b75ee3",
   "metadata": {
    "tags": []
   },
   "outputs": [
    {
     "name": "stdout",
     "output_type": "stream",
     "text": [
      " The Difference is 28.300.\n"
     ]
    }
   ],
   "source": [
    "print(f' The Difference is {Result:.3f}.')"
   ]
  },
  {
   "cell_type": "code",
   "execution_count": 12,
   "id": "98ed2938-07c3-46f4-a2b9-1189eaa61a98",
   "metadata": {
    "tags": []
   },
   "outputs": [],
   "source": [
    "Result = float(Number_1) * int(Number_2)"
   ]
  },
  {
   "cell_type": "code",
   "execution_count": 13,
   "id": "0a02a765-7d30-4107-97f7-f54cf6799e5e",
   "metadata": {
    "tags": []
   },
   "outputs": [
    {
     "name": "stdout",
     "output_type": "stream",
     "text": [
      " The Product is 708.800.\n"
     ]
    }
   ],
   "source": [
    "print(f' The Product is {Result:.3f}.')"
   ]
  },
  {
   "cell_type": "code",
   "execution_count": 14,
   "id": "06e24f24-4243-4be8-a7e3-1bf84692d0a4",
   "metadata": {
    "tags": []
   },
   "outputs": [],
   "source": [
    "Result = float(Number_1) / int(Number_2)"
   ]
  },
  {
   "cell_type": "code",
   "execution_count": 15,
   "id": "cd79d720-546f-4551-8981-547db1c1645e",
   "metadata": {
    "tags": []
   },
   "outputs": [
    {
     "name": "stdout",
     "output_type": "stream",
     "text": [
      " The Quotient is 2.769.\n"
     ]
    }
   ],
   "source": [
    "print(f' The Quotient is {Result:.3f}.')"
   ]
  },
  {
   "cell_type": "code",
   "execution_count": 18,
   "id": "49e3f3af-68de-4c95-ab25-20cdc4fa54ca",
   "metadata": {},
   "outputs": [
    {
     "name": "stdout",
     "output_type": "stream",
     "text": [
      " The type for Result is <class 'float'>.\n"
     ]
    }
   ],
   "source": [
    "print(f' The type for Result is {type(Result)}.')"
   ]
  },
  {
   "cell_type": "markdown",
   "id": "25e474e5-674c-4343-a1d3-431261ddccff",
   "metadata": {},
   "source": [
    "### Problem 2 - Calculating Target Heart Rate "
   ]
  },
  {
   "cell_type": "code",
   "execution_count": 19,
   "id": "6e6610aa-1d58-478a-839d-91541394eb3b",
   "metadata": {
    "tags": []
   },
   "outputs": [],
   "source": [
    "prompt = 'User Age'"
   ]
  },
  {
   "cell_type": "code",
   "execution_count": 20,
   "id": "cb8c9bf4-4b5d-4662-86f6-8b7ccb6eaac7",
   "metadata": {
    "tags": []
   },
   "outputs": [
    {
     "name": "stdin",
     "output_type": "stream",
     "text": [
      "User Age  19\n"
     ]
    }
   ],
   "source": [
    "Age = input(prompt)"
   ]
  },
  {
   "cell_type": "code",
   "execution_count": 21,
   "id": "204e5583-1564-40fb-9444-41f9dff05cc6",
   "metadata": {
    "tags": []
   },
   "outputs": [
    {
     "name": "stdout",
     "output_type": "stream",
     "text": [
      " 19\n"
     ]
    }
   ],
   "source": [
    "print(Age)"
   ]
  },
  {
   "cell_type": "code",
   "execution_count": 22,
   "id": "004836df-fb72-4888-91e4-0b3b3ae58aef",
   "metadata": {
    "tags": []
   },
   "outputs": [],
   "source": [
    "Maximum = 220 - int(Age)"
   ]
  },
  {
   "cell_type": "code",
   "execution_count": 23,
   "id": "96a2725f-f209-455f-a383-1f4b58fe013a",
   "metadata": {
    "tags": []
   },
   "outputs": [
    {
     "name": "stdout",
     "output_type": "stream",
     "text": [
      "201\n"
     ]
    }
   ],
   "source": [
    "print(Maximum)"
   ]
  },
  {
   "cell_type": "code",
   "execution_count": 24,
   "id": "706dd2c3-f092-4a5f-9a23-1ffee4e6e752",
   "metadata": {
    "tags": []
   },
   "outputs": [],
   "source": [
    "Upper = float(0.85) * int(Maximum)"
   ]
  },
  {
   "cell_type": "code",
   "execution_count": 25,
   "id": "1f752f69-7b3c-4891-9f6e-345af3d56863",
   "metadata": {
    "tags": []
   },
   "outputs": [
    {
     "name": "stdout",
     "output_type": "stream",
     "text": [
      "170.85\n"
     ]
    }
   ],
   "source": [
    "print(Upper)"
   ]
  },
  {
   "cell_type": "code",
   "execution_count": 26,
   "id": "a4e9d4c6-874d-4c70-bd1c-7f71fb1bab74",
   "metadata": {
    "tags": []
   },
   "outputs": [],
   "source": [
    "Lower = float(0.50) * int(Maximum)"
   ]
  },
  {
   "cell_type": "code",
   "execution_count": 27,
   "id": "4803c97f-28f5-4353-ac59-55d913bd0dec",
   "metadata": {
    "tags": []
   },
   "outputs": [
    {
     "name": "stdout",
     "output_type": "stream",
     "text": [
      "100.5\n"
     ]
    }
   ],
   "source": [
    "print(Lower)"
   ]
  },
  {
   "cell_type": "code",
   "execution_count": 28,
   "id": "f77f1d15-d98e-484a-a439-69826e92c91e",
   "metadata": {
    "tags": []
   },
   "outputs": [
    {
     "name": "stdout",
     "output_type": "stream",
     "text": [
      "201\n",
      "170.85\n",
      "100.5\n"
     ]
    }
   ],
   "source": [
    "print(Maximum)\n",
    "print(Upper)\n",
    "print(Lower)"
   ]
  },
  {
   "cell_type": "code",
   "execution_count": null,
   "id": "41c3f096-60a8-4215-a332-399900c5155c",
   "metadata": {},
   "outputs": [],
   "source": []
  }
 ],
 "metadata": {
  "kernelspec": {
   "display_name": "Python 3 (ipykernel)",
   "language": "python",
   "name": "python3"
  },
  "language_info": {
   "codemirror_mode": {
    "name": "ipython",
    "version": 3
   },
   "file_extension": ".py",
   "mimetype": "text/x-python",
   "name": "python",
   "nbconvert_exporter": "python",
   "pygments_lexer": "ipython3",
   "version": "3.11.5"
  }
 },
 "nbformat": 4,
 "nbformat_minor": 5
}
